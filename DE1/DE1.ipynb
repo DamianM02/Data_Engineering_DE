{
 "cells": [
  {
   "cell_type": "code",
   "execution_count": 31,
   "metadata": {
    "collapsed": true
   },
   "outputs": [],
   "source": [
    "import pandas as pd\n"
   ]
  },
  {
   "cell_type": "code",
   "execution_count": 32,
   "metadata": {},
   "outputs": [],
   "source": [
    "df=pd.read_csv(\"lab1_ex01.csv\")"
   ]
  },
  {
   "cell_type": "code",
   "execution_count": 33,
   "metadata": {},
   "outputs": [],
   "source": [
    "import json"
   ]
  },
  {
   "cell_type": "code",
   "execution_count": 34,
   "metadata": {},
   "outputs": [],
   "source": [
    "list=[]\n",
    "\n",
    "for col in df.columns:\n",
    "    dictionary={\n",
    "        \"name\": col,\n",
    "        \"missing\": df[col].isna().sum() / len(df[col]),\n",
    "        \"type\": \"other\"\n",
    "    }\n",
    "\n",
    "    if df[col].dtype==\"int64\":\n",
    "        dictionary[\"type\"]=\"int\"\n",
    "\n",
    "    elif df[col].dtype==\"float64\":\n",
    "        dictionary[\"type\"]=\"float\"\n",
    "    list.append(dictionary)\n"
   ]
  },
  {
   "cell_type": "code",
   "execution_count": 35,
   "metadata": {},
   "outputs": [],
   "source": [
    "with open(\"ex01_fields.json\", \"w\") as f:\n",
    "    json.dump(list, f)"
   ]
  },
  {
   "cell_type": "code",
   "execution_count": 36,
   "metadata": {},
   "outputs": [],
   "source": [
    "import numpy as np"
   ]
  },
  {
   "cell_type": "code",
   "execution_count": 37,
   "metadata": {},
   "outputs": [],
   "source": [
    "dictionary={}\n",
    "for col in df.columns:\n",
    "    #temp=df[col]\n",
    "    if df[col].dtype != 'object':\n",
    "        dictionary.update({col:df[col].describe().to_dict()})\n",
    "    else:\n",
    "        dict={\n",
    "            'count': str(len(df[col])-df[col].isna().sum()),\n",
    "            'unique':str(len(df[col].unique())),\n",
    "            'top':str(df[col].value_counts().idxmax()),\n",
    "            'freq':str(df[col].value_counts().max()),\n",
    "        }\n",
    "        dictionary.update({col:dict})\n"
   ]
  },
  {
   "cell_type": "code",
   "execution_count": 38,
   "metadata": {},
   "outputs": [],
   "source": [
    "with open('ex02_stats.json', 'w') as f:\n",
    "    json.dump(dict, f)"
   ]
  },
  {
   "cell_type": "code",
   "execution_count": 48,
   "metadata": {},
   "outputs": [
    {
     "name": "stdout",
     "output_type": "stream",
     "text": [
      "first_column\n",
      "two\n",
      "three\n",
      "somename\n",
      "five\n",
      "what_is_this_even\n",
      "seven\n",
      "eight\n"
     ]
    }
   ],
   "source": [
    "lista=[]\n",
    "c=\"s\"\n",
    "for col in df.columns:\n",
    "    col=\"\".join(char for char in col if char.isalnum() or char in [' ', '_'])\n",
    "    col=col.lower()\n",
    "    col=col.replace(' ', '_')\n",
    "    lista.append(col)\n",
    "\n"
   ]
  },
  {
   "cell_type": "code",
   "execution_count": 49,
   "metadata": {},
   "outputs": [
    {
     "name": "stdout",
     "output_type": "stream",
     "text": [
      "['eight', 'first_column', 'five', 'seven', 'somename', 'three', 'two', 'what_is_this_even']\n"
     ]
    }
   ],
   "source": [
    "lista.sort()\n",
    "df.columns=lista\n",
    "print(lista)\n",
    "df.to_csv('ex03_columns.csv', index=False)"
   ]
  },
  {
   "cell_type": "code",
   "execution_count": 41,
   "metadata": {},
   "outputs": [],
   "source": [
    "import pickle\n",
    "#!pip install openpyxl\n",
    "import openpyxl"
   ]
  },
  {
   "cell_type": "code",
   "execution_count": 42,
   "metadata": {},
   "outputs": [],
   "source": [
    "\n",
    "pd.DataFrame(df).to_excel('ex04_excel.xlsx', index=True)\n",
    "\n",
    "with open('ex04_json.json', 'w') as f:\n",
    "    json.dump(df.to_dict(index=True), f)\n",
    "\n",
    "with open('ex04_pickle.pkl', 'wb') as f:\n",
    "    pickle.dump(df.to_pickle(index=True), f)\n"
   ]
  },
  {
   "cell_type": "code",
   "execution_count": 43,
   "metadata": {},
   "outputs": [],
   "source": [
    "\n",
    "\n",
    "dff=pd.read_pickle('lab1_ex05.pkl')\n",
    "dff = dff.fillna('')\n",
    "(dff.iloc[dff.index.str.startswith('v'), 1:3]).to_markdown('ex05_table.md')"
   ]
  },
  {
   "cell_type": "code",
   "execution_count": 44,
   "metadata": {},
   "outputs": [],
   "source": [
    "with open(\"lab1_ex06.json\", 'r') as p:\n",
    "    data=json.load(p)\n",
    "\n",
    "dff = pd.json_normalize(data, sep='.')\n",
    "\n",
    "dff.to_pickle('ex06_pickle.pkl')"
   ]
  },
  {
   "cell_type": "code",
   "execution_count": 44,
   "metadata": {},
   "outputs": [],
   "source": []
  }
 ],
 "metadata": {
  "kernelspec": {
   "display_name": "Python 3 (ipykernel)",
   "language": "python",
   "name": "python3"
  },
  "language_info": {
   "codemirror_mode": {
    "name": "ipython",
    "version": 3
   },
   "file_extension": ".py",
   "mimetype": "text/x-python",
   "name": "python",
   "nbconvert_exporter": "python",
   "pygments_lexer": "ipython3",
   "version": "3.10.10"
  }
 },
 "nbformat": 4,
 "nbformat_minor": 1
}
